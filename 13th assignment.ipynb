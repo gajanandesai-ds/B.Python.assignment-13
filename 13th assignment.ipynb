{
 "cells": [
  {
   "cell_type": "raw",
   "id": "04a3371d",
   "metadata": {},
   "source": [
    "1. What advantages do Excel spreadsheets have over CSV spreadsheets?"
   ]
  },
  {
   "cell_type": "raw",
   "id": "f6b5356b",
   "metadata": {},
   "source": [
    "ans: In Excle spreadsheets can have values of data type other than strings: cells can have differnt fonts,size,or color settings: cells can have varying width and heights: adjacent cells can be merged and you can embed and charts."
   ]
  },
  {
   "cell_type": "code",
   "execution_count": null,
   "id": "715a03b0",
   "metadata": {},
   "outputs": [],
   "source": []
  },
  {
   "cell_type": "raw",
   "id": "6622636e",
   "metadata": {},
   "source": [
    "2.What do you pass to csv.reader() and csv.writer() to create reader and writer objects?"
   ]
  },
  {
   "cell_type": "raw",
   "id": "d90de695",
   "metadata": {},
   "source": [
    "ans: you pass a file object, obtained from a call to open()."
   ]
  },
  {
   "cell_type": "code",
   "execution_count": null,
   "id": "2e6f18f7",
   "metadata": {},
   "outputs": [],
   "source": []
  },
  {
   "cell_type": "raw",
   "id": "39fa2704",
   "metadata": {},
   "source": [
    "3. What modes do File objects for reader and writer objects need to be opened in?"
   ]
  },
  {
   "cell_type": "raw",
   "id": "07d0b8d6",
   "metadata": {},
   "source": [
    "ans: File objects need to be opend in read-binary('rb') for Reader object and write-binary ('Wb') for writer object. "
   ]
  },
  {
   "cell_type": "code",
   "execution_count": null,
   "id": "4888158d",
   "metadata": {},
   "outputs": [],
   "source": []
  },
  {
   "cell_type": "raw",
   "id": "27373cc6",
   "metadata": {},
   "source": [
    "4. What method takes a list argument and writes it to a CSV file?"
   ]
  },
  {
   "cell_type": "raw",
   "id": "346b5369",
   "metadata": {},
   "source": [
    "ans: The writerow () method."
   ]
  },
  {
   "cell_type": "code",
   "execution_count": null,
   "id": "46cd33c2",
   "metadata": {},
   "outputs": [],
   "source": []
  },
  {
   "cell_type": "raw",
   "id": "7e03c736",
   "metadata": {},
   "source": [
    "5. What do the keyword arguments delimiter and line terminator do?"
   ]
  },
  {
   "cell_type": "raw",
   "id": "ae316c6f",
   "metadata": {},
   "source": [
    "ans: The delimiter argument changes the string used to seprate cells in a row. The lineterminator argument changes the string used to sepreate row."
   ]
  },
  {
   "cell_type": "code",
   "execution_count": null,
   "id": "638b8222",
   "metadata": {},
   "outputs": [],
   "source": []
  },
  {
   "cell_type": "raw",
   "id": "fc73b955",
   "metadata": {},
   "source": [
    "6. What function takes a string of JSON data and returns a Python data structure?"
   ]
  },
  {
   "cell_type": "raw",
   "id": "9056c7e3",
   "metadata": {},
   "source": [
    "ans: json.loads()"
   ]
  },
  {
   "cell_type": "code",
   "execution_count": null,
   "id": "8409343d",
   "metadata": {},
   "outputs": [],
   "source": []
  },
  {
   "cell_type": "raw",
   "id": "406c4b82",
   "metadata": {},
   "source": [
    "7. What function takes a Python data structure and returns a string of JSON data?"
   ]
  },
  {
   "cell_type": "raw",
   "id": "5eb85229",
   "metadata": {},
   "source": [
    "ans: json.dumps()"
   ]
  },
  {
   "cell_type": "code",
   "execution_count": null,
   "id": "a59eadf9",
   "metadata": {},
   "outputs": [],
   "source": []
  }
 ],
 "metadata": {
  "kernelspec": {
   "display_name": "Python 3",
   "language": "python",
   "name": "python3"
  },
  "language_info": {
   "codemirror_mode": {
    "name": "ipython",
    "version": 3
   },
   "file_extension": ".py",
   "mimetype": "text/x-python",
   "name": "python",
   "nbconvert_exporter": "python",
   "pygments_lexer": "ipython3",
   "version": "3.8.8"
  }
 },
 "nbformat": 4,
 "nbformat_minor": 5
}
